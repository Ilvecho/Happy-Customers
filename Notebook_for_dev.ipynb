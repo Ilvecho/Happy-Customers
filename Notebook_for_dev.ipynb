{
  "cells": [
    {
      "cell_type": "code",
      "source": [
        "import numpy as np\n",
        "import pandas as pd\n",
        "import torch\n",
        "\n",
        "from google.colab import files\n",
        "files.upload()\n"
      ],
      "metadata": {
        "id": "q0ipB06fRy1t",
        "outputId": "65ad5094-7416-42df-8770-0069f41580ee",
        "colab": {
          "base_uri": "https://localhost:8080/",
          "height": 127
        }
      },
      "execution_count": null,
      "outputs": [
        {
          "output_type": "display_data",
          "data": {
            "text/plain": [
              "<IPython.core.display.HTML object>"
            ],
            "text/html": [
              "\n",
              "     <input type=\"file\" id=\"files-4aff8e60-8c03-414d-9317-680e14b8ae66\" name=\"files[]\" multiple disabled\n",
              "        style=\"border:none\" />\n",
              "     <output id=\"result-4aff8e60-8c03-414d-9317-680e14b8ae66\">\n",
              "      Upload widget is only available when the cell has been executed in the\n",
              "      current browser session. Please rerun this cell to enable.\n",
              "      </output>\n",
              "      <script>// Copyright 2017 Google LLC\n",
              "//\n",
              "// Licensed under the Apache License, Version 2.0 (the \"License\");\n",
              "// you may not use this file except in compliance with the License.\n",
              "// You may obtain a copy of the License at\n",
              "//\n",
              "//      http://www.apache.org/licenses/LICENSE-2.0\n",
              "//\n",
              "// Unless required by applicable law or agreed to in writing, software\n",
              "// distributed under the License is distributed on an \"AS IS\" BASIS,\n",
              "// WITHOUT WARRANTIES OR CONDITIONS OF ANY KIND, either express or implied.\n",
              "// See the License for the specific language governing permissions and\n",
              "// limitations under the License.\n",
              "\n",
              "/**\n",
              " * @fileoverview Helpers for google.colab Python module.\n",
              " */\n",
              "(function(scope) {\n",
              "function span(text, styleAttributes = {}) {\n",
              "  const element = document.createElement('span');\n",
              "  element.textContent = text;\n",
              "  for (const key of Object.keys(styleAttributes)) {\n",
              "    element.style[key] = styleAttributes[key];\n",
              "  }\n",
              "  return element;\n",
              "}\n",
              "\n",
              "// Max number of bytes which will be uploaded at a time.\n",
              "const MAX_PAYLOAD_SIZE = 100 * 1024;\n",
              "\n",
              "function _uploadFiles(inputId, outputId) {\n",
              "  const steps = uploadFilesStep(inputId, outputId);\n",
              "  const outputElement = document.getElementById(outputId);\n",
              "  // Cache steps on the outputElement to make it available for the next call\n",
              "  // to uploadFilesContinue from Python.\n",
              "  outputElement.steps = steps;\n",
              "\n",
              "  return _uploadFilesContinue(outputId);\n",
              "}\n",
              "\n",
              "// This is roughly an async generator (not supported in the browser yet),\n",
              "// where there are multiple asynchronous steps and the Python side is going\n",
              "// to poll for completion of each step.\n",
              "// This uses a Promise to block the python side on completion of each step,\n",
              "// then passes the result of the previous step as the input to the next step.\n",
              "function _uploadFilesContinue(outputId) {\n",
              "  const outputElement = document.getElementById(outputId);\n",
              "  const steps = outputElement.steps;\n",
              "\n",
              "  const next = steps.next(outputElement.lastPromiseValue);\n",
              "  return Promise.resolve(next.value.promise).then((value) => {\n",
              "    // Cache the last promise value to make it available to the next\n",
              "    // step of the generator.\n",
              "    outputElement.lastPromiseValue = value;\n",
              "    return next.value.response;\n",
              "  });\n",
              "}\n",
              "\n",
              "/**\n",
              " * Generator function which is called between each async step of the upload\n",
              " * process.\n",
              " * @param {string} inputId Element ID of the input file picker element.\n",
              " * @param {string} outputId Element ID of the output display.\n",
              " * @return {!Iterable<!Object>} Iterable of next steps.\n",
              " */\n",
              "function* uploadFilesStep(inputId, outputId) {\n",
              "  const inputElement = document.getElementById(inputId);\n",
              "  inputElement.disabled = false;\n",
              "\n",
              "  const outputElement = document.getElementById(outputId);\n",
              "  outputElement.innerHTML = '';\n",
              "\n",
              "  const pickedPromise = new Promise((resolve) => {\n",
              "    inputElement.addEventListener('change', (e) => {\n",
              "      resolve(e.target.files);\n",
              "    });\n",
              "  });\n",
              "\n",
              "  const cancel = document.createElement('button');\n",
              "  inputElement.parentElement.appendChild(cancel);\n",
              "  cancel.textContent = 'Cancel upload';\n",
              "  const cancelPromise = new Promise((resolve) => {\n",
              "    cancel.onclick = () => {\n",
              "      resolve(null);\n",
              "    };\n",
              "  });\n",
              "\n",
              "  // Wait for the user to pick the files.\n",
              "  const files = yield {\n",
              "    promise: Promise.race([pickedPromise, cancelPromise]),\n",
              "    response: {\n",
              "      action: 'starting',\n",
              "    }\n",
              "  };\n",
              "\n",
              "  cancel.remove();\n",
              "\n",
              "  // Disable the input element since further picks are not allowed.\n",
              "  inputElement.disabled = true;\n",
              "\n",
              "  if (!files) {\n",
              "    return {\n",
              "      response: {\n",
              "        action: 'complete',\n",
              "      }\n",
              "    };\n",
              "  }\n",
              "\n",
              "  for (const file of files) {\n",
              "    const li = document.createElement('li');\n",
              "    li.append(span(file.name, {fontWeight: 'bold'}));\n",
              "    li.append(span(\n",
              "        `(${file.type || 'n/a'}) - ${file.size} bytes, ` +\n",
              "        `last modified: ${\n",
              "            file.lastModifiedDate ? file.lastModifiedDate.toLocaleDateString() :\n",
              "                                    'n/a'} - `));\n",
              "    const percent = span('0% done');\n",
              "    li.appendChild(percent);\n",
              "\n",
              "    outputElement.appendChild(li);\n",
              "\n",
              "    const fileDataPromise = new Promise((resolve) => {\n",
              "      const reader = new FileReader();\n",
              "      reader.onload = (e) => {\n",
              "        resolve(e.target.result);\n",
              "      };\n",
              "      reader.readAsArrayBuffer(file);\n",
              "    });\n",
              "    // Wait for the data to be ready.\n",
              "    let fileData = yield {\n",
              "      promise: fileDataPromise,\n",
              "      response: {\n",
              "        action: 'continue',\n",
              "      }\n",
              "    };\n",
              "\n",
              "    // Use a chunked sending to avoid message size limits. See b/62115660.\n",
              "    let position = 0;\n",
              "    do {\n",
              "      const length = Math.min(fileData.byteLength - position, MAX_PAYLOAD_SIZE);\n",
              "      const chunk = new Uint8Array(fileData, position, length);\n",
              "      position += length;\n",
              "\n",
              "      const base64 = btoa(String.fromCharCode.apply(null, chunk));\n",
              "      yield {\n",
              "        response: {\n",
              "          action: 'append',\n",
              "          file: file.name,\n",
              "          data: base64,\n",
              "        },\n",
              "      };\n",
              "\n",
              "      let percentDone = fileData.byteLength === 0 ?\n",
              "          100 :\n",
              "          Math.round((position / fileData.byteLength) * 100);\n",
              "      percent.textContent = `${percentDone}% done`;\n",
              "\n",
              "    } while (position < fileData.byteLength);\n",
              "  }\n",
              "\n",
              "  // All done.\n",
              "  yield {\n",
              "    response: {\n",
              "      action: 'complete',\n",
              "    }\n",
              "  };\n",
              "}\n",
              "\n",
              "scope.google = scope.google || {};\n",
              "scope.google.colab = scope.google.colab || {};\n",
              "scope.google.colab._files = {\n",
              "  _uploadFiles,\n",
              "  _uploadFilesContinue,\n",
              "};\n",
              "})(self);\n",
              "</script> "
            ]
          },
          "metadata": {}
        },
        {
          "output_type": "stream",
          "name": "stdout",
          "text": [
            "Saving ACME-HappinessSurvey2020.csv to ACME-HappinessSurvey2020 (1).csv\n"
          ]
        },
        {
          "output_type": "execute_result",
          "data": {
            "text/plain": [
              "{'ACME-HappinessSurvey2020.csv': b'Y,X1,X2,X3,X4,X5,X6\\r\\n0,3,3,3,4,2,4\\r\\n0,3,2,3,5,4,3\\r\\n1,5,3,3,3,3,5\\r\\n0,5,4,3,3,3,5\\r\\n0,5,4,3,3,3,5\\r\\n1,5,5,3,5,5,5\\r\\n0,3,1,2,2,1,3\\r\\n1,5,4,4,4,4,5\\r\\n0,4,1,4,4,4,4\\r\\n0,4,4,4,2,5,5\\r\\n0,3,2,3,3,2,3\\r\\n0,4,4,3,4,4,4\\r\\n1,5,2,4,5,5,5\\r\\n0,4,2,4,5,4,3\\r\\n0,4,1,3,3,4,3\\r\\n1,3,2,4,3,4,4\\r\\n0,5,3,4,5,4,5\\r\\n1,5,1,4,3,4,5\\r\\n0,5,1,2,4,4,5\\r\\n0,4,2,4,4,4,4\\r\\n1,4,2,3,3,4,4\\r\\n0,4,3,5,5,5,4\\r\\n0,4,3,5,5,5,4\\r\\n1,5,1,2,5,2,4\\r\\n1,4,3,3,3,3,4\\r\\n0,3,4,3,3,2,3\\r\\n1,3,3,3,5,5,5\\r\\n1,3,3,1,3,3,4\\r\\n1,3,3,1,3,3,4\\r\\n1,5,3,3,3,5,3\\r\\n0,5,3,3,3,5,3\\r\\n0,4,1,3,4,4,5\\r\\n1,3,2,4,4,4,5\\r\\n1,3,2,4,4,4,5\\r\\n1,4,1,3,1,1,4\\r\\n0,4,2,3,3,4,4\\r\\n1,5,3,4,3,4,5\\r\\n1,5,3,4,3,4,5\\r\\n1,5,2,3,3,2,5\\r\\n1,4,4,3,4,2,4\\r\\n0,5,2,3,3,3,3\\r\\n1,4,2,4,3,2,4\\r\\n0,5,2,3,3,4,5\\r\\n0,4,3,3,4,2,4\\r\\n1,3,1,2,4,3,5\\r\\n1,5,3,4,4,4,5\\r\\n1,5,3,3,4,4,5\\r\\n0,1,1,1,3,1,4\\r\\n1,5,2,5,5,5,3\\r\\n1,5,1,3,3,4,4\\r\\n1,5,1,3,3,4,4\\r\\n1,5,1,3,3,4,4\\r\\n1,5,2,4,3,4,5\\r\\n1,5,2,4,3,4,5\\r\\n1,4,3,2,4,3,4\\r\\n1,4,3,2,4,3,4\\r\\n0,5,1,1,5,3,5\\r\\n0,4,4,4,4,3,4\\r\\n1,5,3,5,5,4,5\\r\\n1,5,2,4,2,2,4\\r\\n0,4,3,3,3,3,5\\r\\n1,5,2,4,4,5,5\\r\\n1,5,2,4,4,5,5\\r\\n0,5,5,5,2,5,5\\r\\n1,4,1,3,4,4,4\\r\\n1,4,1,3,4,4,4\\r\\n0,3,3,3,5,4,3\\r\\n0,4,1,1,3,4,4\\r\\n1,5,1,5,5,5,5\\r\\n1,5,4,5,5,5,5\\r\\n1,4,3,3,4,3,4\\r\\n0,4,5,5,5,1,3\\r\\n1,4,3,3,4,2,4\\r\\n0,5,2,3,3,2,5\\r\\n1,5,2,5,5,5,5\\r\\n0,3,2,3,3,4,4\\r\\n0,4,3,2,3,2,4\\r\\n1,5,2,3,5,5,5\\r\\n0,5,3,3,3,2,5\\r\\n1,5,5,5,5,5,5\\r\\n1,4,3,2,4,4,4\\r\\n0,3,3,3,3,3,4\\r\\n1,4,2,4,4,4,4\\r\\n1,5,3,2,4,4,4\\r\\n0,4,3,4,4,2,4\\r\\n1,5,2,3,4,4,5\\r\\n1,5,3,3,3,5,5\\r\\n0,4,1,3,4,4,3\\r\\n0,5,4,2,4,3,5\\r\\n0,3,3,1,3,2,3\\r\\n0,3,4,5,4,5,4\\r\\n1,5,1,3,4,5,5\\r\\n1,5,4,5,5,5,4\\r\\n1,5,4,4,4,4,5\\r\\n0,3,1,3,2,1,2\\r\\n1,5,5,5,5,5,5\\r\\n0,4,4,3,4,3,3\\r\\n1,5,4,5,4,5,4\\r\\n1,4,2,3,4,3,3\\r\\n0,3,3,2,4,4,4\\r\\n1,5,2,2,4,5,5\\r\\n1,5,3,4,3,4,3\\r\\n0,5,2,3,3,3,5\\r\\n1,4,3,4,4,3,4\\r\\n0,4,1,3,5,3,5\\r\\n1,5,1,4,3,5,5\\r\\n1,5,1,5,3,5,5\\r\\n0,4,2,4,4,4,4\\r\\n0,5,2,4,4,5,5\\r\\n1,5,3,4,4,4,4\\r\\n0,5,3,3,4,4,5\\r\\n0,5,3,3,4,4,4\\r\\n0,4,1,3,3,3,4\\r\\n0,5,1,4,4,4,5\\r\\n0,5,2,2,4,4,5\\r\\n0,5,3,5,4,5,5\\r\\n1,3,4,4,5,1,3\\r\\n1,5,1,5,5,5,5\\r\\n1,4,3,3,4,4,4\\r\\n1,5,5,1,1,5,1\\r\\n0,4,4,4,4,1,3\\r\\n1,5,2,3,4,4,3\\r\\n1,5,2,3,4,2,5\\r\\n1,5,3,3,4,4,5\\r\\n0,4,3,3,4,4,5\\r\\n0,5,3,2,5,5,5'}"
            ]
          },
          "metadata": {},
          "execution_count": 31
        }
      ]
    },
    {
      "cell_type": "code",
      "source": [
        "from torch import nn"
      ],
      "metadata": {
        "id": "WRd2bUQIl53n"
      },
      "execution_count": null,
      "outputs": []
    },
    {
      "cell_type": "code",
      "source": [
        "class SingleLayerPerceptron(nn.Module):\n",
        "  def __init__(self):\n",
        "    super().__init__()\n",
        "    self.stack = nn.Sequential(\n",
        "        nn.Linear(6, 2),\n",
        "        # nn.Sigmoid(),\n",
        "        nn.Softmax(dim=1)\n",
        "    )\n",
        "  \n",
        "  def forward(self, x):\n",
        "    logits = self.stack(x)\n",
        "    return logits"
      ],
      "metadata": {
        "id": "foUjJtKfSRL2"
      },
      "execution_count": null,
      "outputs": []
    },
    {
      "cell_type": "code",
      "source": [
        "def DataLoader(file_name, split: float):\n",
        "\n",
        "    data = pd.read_csv(file_name)\n",
        "    attributes = torch.tensor(data.drop('Y', axis=1).values)\n",
        "\n",
        "    # for the labels, we need a bit of work to transform them in 1 hot encoding\n",
        "    labels = torch.zeros(data.shape[0], 2)\n",
        "    for i in range(data.shape[0]):\n",
        "      labels[i].scatter_(dim=0, index=torch.tensor(data['Y'].values[i]), value=1)\n",
        "\n",
        "    # split the dataset in training and validation\n",
        "    train_attributes = attributes[:int(attributes.shape[0]*split)].float()\n",
        "    val_attributes = attributes[int(attributes.shape[0]*split):].float()\n",
        "\n",
        "    train_labels = labels[:int(attributes.shape[0]*split)].float()\n",
        "    val_labels = labels[int(attributes.shape[0]*split):].float()\n",
        "    \n",
        "    return train_attributes, val_attributes, train_labels, val_labels"
      ],
      "metadata": {
        "id": "MLiehflye3h8"
      },
      "execution_count": null,
      "outputs": []
    },
    {
      "cell_type": "code",
      "source": [
        "train_attributes, val_attributes, train_labels, val_labels = DataLoader('ACME-HappinessSurvey2020.csv', 0.90)"
      ],
      "metadata": {
        "id": "k42XgofJi8ST"
      },
      "execution_count": null,
      "outputs": []
    },
    {
      "cell_type": "code",
      "source": [
        "learning_rate = 0.001\n",
        "\n",
        "model = SingleLayerPerceptron()\n",
        "loss_fn = nn.CrossEntropyLoss()\n",
        "# loss_fn = nn.MSELoss()\n",
        "optimizer = torch.optim.SGD(model.parameters(), lr=learning_rate)"
      ],
      "metadata": {
        "id": "IjqrlhOnjS1Z"
      },
      "execution_count": null,
      "outputs": []
    },
    {
      "cell_type": "code",
      "source": [
        "# train loop - we use the full dataset every time, and repeat for few epochs\n",
        "N_EPOCHS = 10000\n",
        "\n",
        "for e in range(N_EPOCHS):\n",
        "  pred = model(train_attributes)\n",
        "  loss = loss_fn(pred, train_labels)\n",
        "  if e % 500 == 0:\n",
        "    print(f'Epoch {e} shows a loss of {loss}')\n",
        "\n",
        "  loss.backward()\n",
        "  optimizer.step()\n",
        "  optimizer.zero_grad()"
      ],
      "metadata": {
        "colab": {
          "base_uri": "https://localhost:8080/"
        },
        "id": "xkFk2c9_luQE",
        "outputId": "4d6694bf-a025-4e40-8416-9ed1d7e0bd4e"
      },
      "execution_count": null,
      "outputs": [
        {
          "output_type": "stream",
          "name": "stdout",
          "text": [
            "Epoch 0 shows a loss of 0.7193646430969238\n",
            "Epoch 500 shows a loss of 0.6972046494483948\n",
            "Epoch 1000 shows a loss of 0.6938546299934387\n",
            "Epoch 1500 shows a loss of 0.6907156705856323\n",
            "Epoch 2000 shows a loss of 0.6877014636993408\n",
            "Epoch 2500 shows a loss of 0.6848341822624207\n",
            "Epoch 3000 shows a loss of 0.6821333169937134\n",
            "Epoch 3500 shows a loss of 0.679615318775177\n",
            "Epoch 4000 shows a loss of 0.6772922873497009\n",
            "Epoch 4500 shows a loss of 0.6751704812049866\n",
            "Epoch 5000 shows a loss of 0.673250138759613\n",
            "Epoch 5500 shows a loss of 0.6715251803398132\n",
            "Epoch 6000 shows a loss of 0.6699844598770142\n",
            "Epoch 6500 shows a loss of 0.6686133146286011\n",
            "Epoch 7000 shows a loss of 0.6673951745033264\n",
            "Epoch 7500 shows a loss of 0.6663129925727844\n",
            "Epoch 8000 shows a loss of 0.6653502583503723\n",
            "Epoch 8500 shows a loss of 0.6644916534423828\n",
            "Epoch 9000 shows a loss of 0.6637237071990967\n",
            "Epoch 9500 shows a loss of 0.6630341410636902\n"
          ]
        }
      ]
    },
    {
      "cell_type": "code",
      "source": [
        "pred = model(val_attributes)\n",
        "print(pred)\n",
        "print(val_labels)\n",
        "print(loss_fn(pred, val_labels))"
      ],
      "metadata": {
        "id": "RgzRFjTTqMSr",
        "outputId": "fa13afb3-4280-4106-e8f9-f8629a44151f",
        "colab": {
          "base_uri": "https://localhost:8080/"
        }
      },
      "execution_count": null,
      "outputs": [
        {
          "output_type": "stream",
          "name": "stdout",
          "text": [
            "tensor([[0.2197, 0.7803],\n",
            "        [0.3639, 0.6361],\n",
            "        [0.2417, 0.7583],\n",
            "        [0.7049, 0.2951],\n",
            "        [0.1545, 0.8455],\n",
            "        [0.4067, 0.5933],\n",
            "        [0.4528, 0.5472],\n",
            "        [0.6639, 0.3361],\n",
            "        [0.2990, 0.7010],\n",
            "        [0.4753, 0.5247],\n",
            "        [0.3942, 0.6058],\n",
            "        [0.4188, 0.5812],\n",
            "        [0.3836, 0.6164]], grad_fn=<SoftmaxBackward0>)\n",
            "tensor([[1., 0.],\n",
            "        [1., 0.],\n",
            "        [1., 0.],\n",
            "        [0., 1.],\n",
            "        [0., 1.],\n",
            "        [0., 1.],\n",
            "        [0., 1.],\n",
            "        [1., 0.],\n",
            "        [0., 1.],\n",
            "        [0., 1.],\n",
            "        [0., 1.],\n",
            "        [1., 0.],\n",
            "        [1., 0.]])\n",
            "tensor(0.7171, grad_fn=<DivBackward1>)\n"
          ]
        }
      ]
    }
  ],
  "metadata": {
    "colab": {
      "provenance": []
    },
    "kernelspec": {
      "display_name": "Python 3",
      "name": "python3"
    }
  },
  "nbformat": 4,
  "nbformat_minor": 0
}