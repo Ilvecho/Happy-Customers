{
  "cells": [
    {
      "cell_type": "markdown",
      "metadata": {
        "id": "view-in-github",
        "colab_type": "text"
      },
      "source": [
        "<a href=\"https://colab.research.google.com/github/Ilvecho/yKv6QC0ApiFAR8p7/blob/main/Notebook_for_dev.ipynb\" target=\"_parent\"><img src=\"https://colab.research.google.com/assets/colab-badge.svg\" alt=\"Open In Colab\"/></a>"
      ]
    },
    {
      "cell_type": "code",
      "source": [
        "import numpy as np\n",
        "import pandas as pd\n",
        "import torch\n",
        "\n",
        "from google.colab import files\n",
        "files.upload()\n"
      ],
      "metadata": {
        "id": "q0ipB06fRy1t",
        "outputId": "16ccbe94-e1e6-4144-a33a-28ae98121999",
        "colab": {
          "base_uri": "https://localhost:8080/",
          "height": 127
        }
      },
      "execution_count": 21,
      "outputs": [
        {
          "output_type": "display_data",
          "data": {
            "text/plain": [
              "<IPython.core.display.HTML object>"
            ],
            "text/html": [
              "\n",
              "     <input type=\"file\" id=\"files-12f59a5c-9cfb-43a5-b48b-9f969a2f9a1a\" name=\"files[]\" multiple disabled\n",
              "        style=\"border:none\" />\n",
              "     <output id=\"result-12f59a5c-9cfb-43a5-b48b-9f969a2f9a1a\">\n",
              "      Upload widget is only available when the cell has been executed in the\n",
              "      current browser session. Please rerun this cell to enable.\n",
              "      </output>\n",
              "      <script>// Copyright 2017 Google LLC\n",
              "//\n",
              "// Licensed under the Apache License, Version 2.0 (the \"License\");\n",
              "// you may not use this file except in compliance with the License.\n",
              "// You may obtain a copy of the License at\n",
              "//\n",
              "//      http://www.apache.org/licenses/LICENSE-2.0\n",
              "//\n",
              "// Unless required by applicable law or agreed to in writing, software\n",
              "// distributed under the License is distributed on an \"AS IS\" BASIS,\n",
              "// WITHOUT WARRANTIES OR CONDITIONS OF ANY KIND, either express or implied.\n",
              "// See the License for the specific language governing permissions and\n",
              "// limitations under the License.\n",
              "\n",
              "/**\n",
              " * @fileoverview Helpers for google.colab Python module.\n",
              " */\n",
              "(function(scope) {\n",
              "function span(text, styleAttributes = {}) {\n",
              "  const element = document.createElement('span');\n",
              "  element.textContent = text;\n",
              "  for (const key of Object.keys(styleAttributes)) {\n",
              "    element.style[key] = styleAttributes[key];\n",
              "  }\n",
              "  return element;\n",
              "}\n",
              "\n",
              "// Max number of bytes which will be uploaded at a time.\n",
              "const MAX_PAYLOAD_SIZE = 100 * 1024;\n",
              "\n",
              "function _uploadFiles(inputId, outputId) {\n",
              "  const steps = uploadFilesStep(inputId, outputId);\n",
              "  const outputElement = document.getElementById(outputId);\n",
              "  // Cache steps on the outputElement to make it available for the next call\n",
              "  // to uploadFilesContinue from Python.\n",
              "  outputElement.steps = steps;\n",
              "\n",
              "  return _uploadFilesContinue(outputId);\n",
              "}\n",
              "\n",
              "// This is roughly an async generator (not supported in the browser yet),\n",
              "// where there are multiple asynchronous steps and the Python side is going\n",
              "// to poll for completion of each step.\n",
              "// This uses a Promise to block the python side on completion of each step,\n",
              "// then passes the result of the previous step as the input to the next step.\n",
              "function _uploadFilesContinue(outputId) {\n",
              "  const outputElement = document.getElementById(outputId);\n",
              "  const steps = outputElement.steps;\n",
              "\n",
              "  const next = steps.next(outputElement.lastPromiseValue);\n",
              "  return Promise.resolve(next.value.promise).then((value) => {\n",
              "    // Cache the last promise value to make it available to the next\n",
              "    // step of the generator.\n",
              "    outputElement.lastPromiseValue = value;\n",
              "    return next.value.response;\n",
              "  });\n",
              "}\n",
              "\n",
              "/**\n",
              " * Generator function which is called between each async step of the upload\n",
              " * process.\n",
              " * @param {string} inputId Element ID of the input file picker element.\n",
              " * @param {string} outputId Element ID of the output display.\n",
              " * @return {!Iterable<!Object>} Iterable of next steps.\n",
              " */\n",
              "function* uploadFilesStep(inputId, outputId) {\n",
              "  const inputElement = document.getElementById(inputId);\n",
              "  inputElement.disabled = false;\n",
              "\n",
              "  const outputElement = document.getElementById(outputId);\n",
              "  outputElement.innerHTML = '';\n",
              "\n",
              "  const pickedPromise = new Promise((resolve) => {\n",
              "    inputElement.addEventListener('change', (e) => {\n",
              "      resolve(e.target.files);\n",
              "    });\n",
              "  });\n",
              "\n",
              "  const cancel = document.createElement('button');\n",
              "  inputElement.parentElement.appendChild(cancel);\n",
              "  cancel.textContent = 'Cancel upload';\n",
              "  const cancelPromise = new Promise((resolve) => {\n",
              "    cancel.onclick = () => {\n",
              "      resolve(null);\n",
              "    };\n",
              "  });\n",
              "\n",
              "  // Wait for the user to pick the files.\n",
              "  const files = yield {\n",
              "    promise: Promise.race([pickedPromise, cancelPromise]),\n",
              "    response: {\n",
              "      action: 'starting',\n",
              "    }\n",
              "  };\n",
              "\n",
              "  cancel.remove();\n",
              "\n",
              "  // Disable the input element since further picks are not allowed.\n",
              "  inputElement.disabled = true;\n",
              "\n",
              "  if (!files) {\n",
              "    return {\n",
              "      response: {\n",
              "        action: 'complete',\n",
              "      }\n",
              "    };\n",
              "  }\n",
              "\n",
              "  for (const file of files) {\n",
              "    const li = document.createElement('li');\n",
              "    li.append(span(file.name, {fontWeight: 'bold'}));\n",
              "    li.append(span(\n",
              "        `(${file.type || 'n/a'}) - ${file.size} bytes, ` +\n",
              "        `last modified: ${\n",
              "            file.lastModifiedDate ? file.lastModifiedDate.toLocaleDateString() :\n",
              "                                    'n/a'} - `));\n",
              "    const percent = span('0% done');\n",
              "    li.appendChild(percent);\n",
              "\n",
              "    outputElement.appendChild(li);\n",
              "\n",
              "    const fileDataPromise = new Promise((resolve) => {\n",
              "      const reader = new FileReader();\n",
              "      reader.onload = (e) => {\n",
              "        resolve(e.target.result);\n",
              "      };\n",
              "      reader.readAsArrayBuffer(file);\n",
              "    });\n",
              "    // Wait for the data to be ready.\n",
              "    let fileData = yield {\n",
              "      promise: fileDataPromise,\n",
              "      response: {\n",
              "        action: 'continue',\n",
              "      }\n",
              "    };\n",
              "\n",
              "    // Use a chunked sending to avoid message size limits. See b/62115660.\n",
              "    let position = 0;\n",
              "    do {\n",
              "      const length = Math.min(fileData.byteLength - position, MAX_PAYLOAD_SIZE);\n",
              "      const chunk = new Uint8Array(fileData, position, length);\n",
              "      position += length;\n",
              "\n",
              "      const base64 = btoa(String.fromCharCode.apply(null, chunk));\n",
              "      yield {\n",
              "        response: {\n",
              "          action: 'append',\n",
              "          file: file.name,\n",
              "          data: base64,\n",
              "        },\n",
              "      };\n",
              "\n",
              "      let percentDone = fileData.byteLength === 0 ?\n",
              "          100 :\n",
              "          Math.round((position / fileData.byteLength) * 100);\n",
              "      percent.textContent = `${percentDone}% done`;\n",
              "\n",
              "    } while (position < fileData.byteLength);\n",
              "  }\n",
              "\n",
              "  // All done.\n",
              "  yield {\n",
              "    response: {\n",
              "      action: 'complete',\n",
              "    }\n",
              "  };\n",
              "}\n",
              "\n",
              "scope.google = scope.google || {};\n",
              "scope.google.colab = scope.google.colab || {};\n",
              "scope.google.colab._files = {\n",
              "  _uploadFiles,\n",
              "  _uploadFilesContinue,\n",
              "};\n",
              "})(self);\n",
              "</script> "
            ]
          },
          "metadata": {}
        },
        {
          "output_type": "stream",
          "name": "stdout",
          "text": [
            "Saving ACME-HappinessSurvey2020.csv to ACME-HappinessSurvey2020 (1).csv\n"
          ]
        },
        {
          "output_type": "execute_result",
          "data": {
            "text/plain": [
              "{'ACME-HappinessSurvey2020.csv': b'Y,X1,X2,X3,X4,X5,X6\\r\\n0,3,3,3,4,2,4\\r\\n0,3,2,3,5,4,3\\r\\n1,5,3,3,3,3,5\\r\\n0,5,4,3,3,3,5\\r\\n0,5,4,3,3,3,5\\r\\n1,5,5,3,5,5,5\\r\\n0,3,1,2,2,1,3\\r\\n1,5,4,4,4,4,5\\r\\n0,4,1,4,4,4,4\\r\\n0,4,4,4,2,5,5\\r\\n0,3,2,3,3,2,3\\r\\n0,4,4,3,4,4,4\\r\\n1,5,2,4,5,5,5\\r\\n0,4,2,4,5,4,3\\r\\n0,4,1,3,3,4,3\\r\\n1,3,2,4,3,4,4\\r\\n0,5,3,4,5,4,5\\r\\n1,5,1,4,3,4,5\\r\\n0,5,1,2,4,4,5\\r\\n0,4,2,4,4,4,4\\r\\n1,4,2,3,3,4,4\\r\\n0,4,3,5,5,5,4\\r\\n0,4,3,5,5,5,4\\r\\n1,5,1,2,5,2,4\\r\\n1,4,3,3,3,3,4\\r\\n0,3,4,3,3,2,3\\r\\n1,3,3,3,5,5,5\\r\\n1,3,3,1,3,3,4\\r\\n1,3,3,1,3,3,4\\r\\n1,5,3,3,3,5,3\\r\\n0,5,3,3,3,5,3\\r\\n0,4,1,3,4,4,5\\r\\n1,3,2,4,4,4,5\\r\\n1,3,2,4,4,4,5\\r\\n1,4,1,3,1,1,4\\r\\n0,4,2,3,3,4,4\\r\\n1,5,3,4,3,4,5\\r\\n1,5,3,4,3,4,5\\r\\n1,5,2,3,3,2,5\\r\\n1,4,4,3,4,2,4\\r\\n0,5,2,3,3,3,3\\r\\n1,4,2,4,3,2,4\\r\\n0,5,2,3,3,4,5\\r\\n0,4,3,3,4,2,4\\r\\n1,3,1,2,4,3,5\\r\\n1,5,3,4,4,4,5\\r\\n1,5,3,3,4,4,5\\r\\n0,1,1,1,3,1,4\\r\\n1,5,2,5,5,5,3\\r\\n1,5,1,3,3,4,4\\r\\n1,5,1,3,3,4,4\\r\\n1,5,1,3,3,4,4\\r\\n1,5,2,4,3,4,5\\r\\n1,5,2,4,3,4,5\\r\\n1,4,3,2,4,3,4\\r\\n1,4,3,2,4,3,4\\r\\n0,5,1,1,5,3,5\\r\\n0,4,4,4,4,3,4\\r\\n1,5,3,5,5,4,5\\r\\n1,5,2,4,2,2,4\\r\\n0,4,3,3,3,3,5\\r\\n1,5,2,4,4,5,5\\r\\n1,5,2,4,4,5,5\\r\\n0,5,5,5,2,5,5\\r\\n1,4,1,3,4,4,4\\r\\n1,4,1,3,4,4,4\\r\\n0,3,3,3,5,4,3\\r\\n0,4,1,1,3,4,4\\r\\n1,5,1,5,5,5,5\\r\\n1,5,4,5,5,5,5\\r\\n1,4,3,3,4,3,4\\r\\n0,4,5,5,5,1,3\\r\\n1,4,3,3,4,2,4\\r\\n0,5,2,3,3,2,5\\r\\n1,5,2,5,5,5,5\\r\\n0,3,2,3,3,4,4\\r\\n0,4,3,2,3,2,4\\r\\n1,5,2,3,5,5,5\\r\\n0,5,3,3,3,2,5\\r\\n1,5,5,5,5,5,5\\r\\n1,4,3,2,4,4,4\\r\\n0,3,3,3,3,3,4\\r\\n1,4,2,4,4,4,4\\r\\n1,5,3,2,4,4,4\\r\\n0,4,3,4,4,2,4\\r\\n1,5,2,3,4,4,5\\r\\n1,5,3,3,3,5,5\\r\\n0,4,1,3,4,4,3\\r\\n0,5,4,2,4,3,5\\r\\n0,3,3,1,3,2,3\\r\\n0,3,4,5,4,5,4\\r\\n1,5,1,3,4,5,5\\r\\n1,5,4,5,5,5,4\\r\\n1,5,4,4,4,4,5\\r\\n0,3,1,3,2,1,2\\r\\n1,5,5,5,5,5,5\\r\\n0,4,4,3,4,3,3\\r\\n1,5,4,5,4,5,4\\r\\n1,4,2,3,4,3,3\\r\\n0,3,3,2,4,4,4\\r\\n1,5,2,2,4,5,5\\r\\n1,5,3,4,3,4,3\\r\\n0,5,2,3,3,3,5\\r\\n1,4,3,4,4,3,4\\r\\n0,4,1,3,5,3,5\\r\\n1,5,1,4,3,5,5\\r\\n1,5,1,5,3,5,5\\r\\n0,4,2,4,4,4,4\\r\\n0,5,2,4,4,5,5\\r\\n1,5,3,4,4,4,4\\r\\n0,5,3,3,4,4,5\\r\\n0,5,3,3,4,4,4\\r\\n0,4,1,3,3,3,4\\r\\n0,5,1,4,4,4,5\\r\\n0,5,2,2,4,4,5\\r\\n0,5,3,5,4,5,5\\r\\n1,3,4,4,5,1,3\\r\\n1,5,1,5,5,5,5\\r\\n1,4,3,3,4,4,4\\r\\n1,5,5,1,1,5,1\\r\\n0,4,4,4,4,1,3\\r\\n1,5,2,3,4,4,3\\r\\n1,5,2,3,4,2,5\\r\\n1,5,3,3,4,4,5\\r\\n0,4,3,3,4,4,5\\r\\n0,5,3,2,5,5,5'}"
            ]
          },
          "metadata": {},
          "execution_count": 21
        }
      ]
    },
    {
      "cell_type": "code",
      "source": [
        "from torch import nn"
      ],
      "metadata": {
        "id": "WRd2bUQIl53n"
      },
      "execution_count": 110,
      "outputs": []
    },
    {
      "cell_type": "code",
      "source": [
        "class SingleLayerPerceptron(nn.Module):\n",
        "  def __init__(self, input_dim):\n",
        "    super().__init__()\n",
        "    self.stack = nn.Sequential(\n",
        "        nn.Linear(input_dim, 1),\n",
        "        nn.Sigmoid(),\n",
        "        # nn.Hardtanh(0,1)\n",
        "        # nn.Softmax(dim=1)\n",
        "    )\n",
        "  \n",
        "  def forward(self, x):\n",
        "    logits = self.stack(x)\n",
        "    return logits"
      ],
      "metadata": {
        "id": "foUjJtKfSRL2"
      },
      "execution_count": 111,
      "outputs": []
    },
    {
      "cell_type": "code",
      "source": [
        "def DataLoader(file_name, split: float):\n",
        "\n",
        "    data = pd.read_csv(file_name)\n",
        "    \n",
        "    attributes = torch.tensor(data.drop('Y', axis=1).values).float()\n",
        "    # torch.div(attributes, 5.0)\n",
        "    labels = torch.tensor(data['Y'].values).unsqueeze_(1)\n",
        "   \n",
        "    # split the dataset in training and validation\n",
        "    train_attributes = attributes[:int(attributes.shape[0]*split)].float()\n",
        "    val_attributes = attributes[int(attributes.shape[0]*split):].float()\n",
        "\n",
        "    train_labels = labels[:int(attributes.shape[0]*split)].float()\n",
        "    val_labels = labels[int(attributes.shape[0]*split):].float()\n",
        "    \n",
        "    return train_attributes, val_attributes, train_labels, val_labels"
      ],
      "metadata": {
        "id": "MLiehflye3h8"
      },
      "execution_count": 112,
      "outputs": []
    },
    {
      "cell_type": "code",
      "source": [
        "train_attributes, val_attributes, train_labels, val_labels = DataLoader('ACME-HappinessSurvey2020.csv', 0.90)"
      ],
      "metadata": {
        "id": "k42XgofJi8ST"
      },
      "execution_count": 113,
      "outputs": []
    },
    {
      "cell_type": "code",
      "source": [
        "learning_rate = 0.5\n",
        "input_dim = 6\n",
        "\n",
        "model = SingleLayerPerceptron(input_dim)\n",
        "# loss_fn = nn.CrossEntropyLoss()\n",
        "loss_fn = nn.BCELoss()\n",
        "optimizer = torch.optim.SGD(model.parameters(), lr=learning_rate)"
      ],
      "metadata": {
        "id": "IjqrlhOnjS1Z"
      },
      "execution_count": 136,
      "outputs": []
    },
    {
      "cell_type": "code",
      "source": [
        "l = model.state_dict()\n",
        "print(l)"
      ],
      "metadata": {
        "colab": {
          "base_uri": "https://localhost:8080/"
        },
        "id": "xkhqSFvqoHBe",
        "outputId": "bbdcffee-7a2b-4365-9166-fc1cb2c2728c"
      },
      "execution_count": 137,
      "outputs": [
        {
          "output_type": "stream",
          "name": "stdout",
          "text": [
            "OrderedDict([('stack.0.weight', tensor([[-0.1508,  0.3812,  0.3424, -0.2934,  0.0226, -0.2991]])), ('stack.0.bias', tensor([-0.3237]))])\n"
          ]
        }
      ]
    },
    {
      "cell_type": "code",
      "source": [
        "# train loop - we use the full dataset every time, and repeat for few epochs\n",
        "N_EPOCHS = 15000\n",
        "\n",
        "losses = []\n",
        "accuracies = []\n",
        "iter = []\n",
        "\n",
        "for e in range(N_EPOCHS):\n",
        "  outputs = model(train_attributes)\n",
        "  loss = loss_fn(outputs, train_labels)\n",
        "\n",
        "  if e % 5000 == 0:\n",
        "    optimizer = torch.optim.SGD(model.parameters(), lr=0.1)\n",
        "\n",
        "  if e % 10000 == 0:\n",
        "    optimizer = torch.optim.SGD(model.parameters(), lr=0.01)\n",
        "\n",
        "  if e % 1000 == 0:\n",
        "    \n",
        "    pred = outputs.round().detach().numpy()\n",
        "    good_pred = np.sum(pred == train_labels.detach().numpy())\n",
        "    accuracy = 100 * good_pred/pred.size\n",
        "    # print(f'Epoch {e} --------------- \\nLoss: {loss} \\nAccuracy: {accuracy}')\n",
        "\n",
        "    losses.append(loss.item())\n",
        "    accuracies.append(accuracy)\n",
        "    iter.append(e)\n",
        "\n",
        "  loss.backward()\n",
        "  optimizer.step()\n",
        "  optimizer.zero_grad()\n",
        "\n"
      ],
      "metadata": {
        "id": "xkFk2c9_luQE"
      },
      "execution_count": 138,
      "outputs": []
    },
    {
      "cell_type": "code",
      "source": [
        "l = model.state_dict()\n",
        "print(l)"
      ],
      "metadata": {
        "colab": {
          "base_uri": "https://localhost:8080/"
        },
        "id": "i24MlMnro6_5",
        "outputId": "e10bf024-f3bd-489f-b7aa-61f2e23b6aba"
      },
      "execution_count": 139,
      "outputs": [
        {
          "output_type": "stream",
          "name": "stdout",
          "text": [
            "OrderedDict([('stack.0.weight', tensor([[ 0.4865, -0.1968,  0.1319, -0.0042,  0.2566,  0.3775]])), ('stack.0.bias', tensor([-4.3519]))])\n"
          ]
        }
      ]
    },
    {
      "cell_type": "code",
      "source": [
        "import matplotlib.pyplot as plt\n",
        "plt.plot(iter, accuracies)"
      ],
      "metadata": {
        "colab": {
          "base_uri": "https://localhost:8080/",
          "height": 447
        },
        "id": "ySFq-2NosFmV",
        "outputId": "562edb32-ea30-49fc-9aa0-b96926068ca5"
      },
      "execution_count": 140,
      "outputs": [
        {
          "output_type": "execute_result",
          "data": {
            "text/plain": [
              "[<matplotlib.lines.Line2D at 0x7fa3b1a1b430>]"
            ]
          },
          "metadata": {},
          "execution_count": 140
        },
        {
          "output_type": "display_data",
          "data": {
            "text/plain": [
              "<Figure size 640x480 with 1 Axes>"
            ],
            "image/png": "[encoded data removed]"
          },
          "metadata": {}
        }
      ]
    },
    {
      "cell_type": "code",
      "source": [
        "pred = model(val_attributes)\n",
        "print(pred)\n",
        "print(val_labels)\n",
        "print(loss_fn(pred, val_labels))"
      ],
      "metadata": {
        "id": "RgzRFjTTqMSr",
        "outputId": "fa13afb3-4280-4106-e8f9-f8629a44151f",
        "colab": {
          "base_uri": "https://localhost:8080/"
        }
      },
      "execution_count": null,
      "outputs": [
        {
          "output_type": "stream",
          "name": "stdout",
          "text": [
            "tensor([[0.2197, 0.7803],\n",
            "        [0.3639, 0.6361],\n",
            "        [0.2417, 0.7583],\n",
            "        [0.7049, 0.2951],\n",
            "        [0.1545, 0.8455],\n",
            "        [0.4067, 0.5933],\n",
            "        [0.4528, 0.5472],\n",
            "        [0.6639, 0.3361],\n",
            "        [0.2990, 0.7010],\n",
            "        [0.4753, 0.5247],\n",
            "        [0.3942, 0.6058],\n",
            "        [0.4188, 0.5812],\n",
            "        [0.3836, 0.6164]], grad_fn=<SoftmaxBackward0>)\n",
            "tensor([[1., 0.],\n",
            "        [1., 0.],\n",
            "        [1., 0.],\n",
            "        [0., 1.],\n",
            "        [0., 1.],\n",
            "        [0., 1.],\n",
            "        [0., 1.],\n",
            "        [1., 0.],\n",
            "        [0., 1.],\n",
            "        [0., 1.],\n",
            "        [0., 1.],\n",
            "        [1., 0.],\n",
            "        [1., 0.]])\n",
            "tensor(0.7171, grad_fn=<DivBackward1>)\n"
          ]
        }
      ]
    }
  ],
  "metadata": {
    "colab": {
      "provenance": [],
      "include_colab_link": true
    },
    "kernelspec": {
      "display_name": "Python 3",
      "name": "python3"
    }
  },
  "nbformat": 4,
  "nbformat_minor": 0
}